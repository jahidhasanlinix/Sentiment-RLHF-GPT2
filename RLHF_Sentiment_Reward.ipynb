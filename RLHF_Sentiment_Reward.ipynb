{
  "nbformat": 4,
  "nbformat_minor": 0,
  "metadata": {
    "colab": {
      "provenance": [],
      "gpuType": "T4",
      "authorship_tag": "ABX9TyNdnYcrxkZBHRHELMa6qSCM",
      "include_colab_link": true
    },
    "kernelspec": {
      "name": "python3",
      "display_name": "Python 3"
    },
    "language_info": {
      "name": "python"
    },
    "accelerator": "GPU"
  },
  "cells": [
    {
      "cell_type": "markdown",
      "metadata": {
        "id": "view-in-github",
        "colab_type": "text"
      },
      "source": [
        "<a href=\"https://colab.research.google.com/github/jahidhasanlinix/Sentiment-RLHF-GPT2/blob/main/RLHF_Sentiment_Reward.ipynb\" target=\"_parent\"><img src=\"https://colab.research.google.com/assets/colab-badge.svg\" alt=\"Open In Colab\"/></a>"
      ]
    },
    {
      "cell_type": "code",
      "execution_count": 1,
      "metadata": {
        "id": "w-f5F5MJ3Oke"
      },
      "outputs": [],
      "source": [
        "# !pip install transformers trl accelerate matplotlib -q"
      ]
    },
    {
      "cell_type": "code",
      "source": [
        "import torch\n",
        "import numpy as np\n",
        "from typing import List, Tuple\n",
        "from tqdm import tqdm\n",
        "from transformers import pipeline as hf_pipeline\n",
        "from transformers import (\n",
        "    AutoTokenizer, AutoModelForCausalLM, set_seed\n",
        ")\n",
        "from trl import PPOTrainer, PPOConfig, AutoModelForCausalLMWithValueHead, create_reference_model\n",
        "import matplotlib.pyplot as plt\n",
        "from transformers import logging\n",
        "logging.set_verbosity_error()"
      ],
      "metadata": {
        "id": "Yp3i63lG_5f-"
      },
      "execution_count": 1,
      "outputs": []
    },
    {
      "cell_type": "code",
      "source": [
        "set_seed(42)\n",
        "device = torch.device(\"cuda\" if torch.cuda.is_available() else \"cpu\")\n",
        "print(f\"🚀 Using device: {device}\")"
      ],
      "metadata": {
        "colab": {
          "base_uri": "https://localhost:8080/"
        },
        "id": "YFQtqU2R_8If",
        "outputId": "bf4717b0-e63e-4944-8270-b238e0853d30"
      },
      "execution_count": 2,
      "outputs": [
        {
          "output_type": "stream",
          "name": "stdout",
          "text": [
            "🚀 Using device: cuda\n"
          ]
        }
      ]
    },
    {
      "cell_type": "code",
      "source": [
        "class RLHFResearchPipeline:\n",
        "    def __init__(self, model_name=\"gpt2\", reward_model_name=\"cardiffnlp/twitter-roberta-base-sentiment-latest\",\n",
        "                 max_length=64, batch_size=4):\n",
        "        self.model_name = model_name\n",
        "        self.reward_model_name = reward_model_name\n",
        "        self.max_length = max_length\n",
        "        self.batch_size = batch_size\n",
        "        self._setup_models()\n",
        "\n",
        "    def _setup_models(self):\n",
        "        self.tokenizer = AutoTokenizer.from_pretrained(self.model_name)\n",
        "        if self.tokenizer.pad_token is None:\n",
        "            self.tokenizer.pad_token = self.tokenizer.eos_token\n",
        "\n",
        "        self.model = AutoModelForCausalLMWithValueHead.from_pretrained(\n",
        "            self.model_name,\n",
        "            device_map=\"auto\"\n",
        "        )\n",
        "        self.ref_model = create_reference_model(self.model)\n",
        "        self.reward_model = hf_pipeline(\n",
        "            \"sentiment-analysis\",\n",
        "            model=self.reward_model_name,\n",
        "            return_all_scores=True,\n",
        "            device=0 if torch.cuda.is_available() else -1\n",
        "        )\n",
        "        print(\"✅ Models loaded successfully!\")\n",
        "\n",
        "    def setup_ppo_trainer(self, learning_rate=1e-5):\n",
        "        config = PPOConfig(\n",
        "            model_name=self.model_name,\n",
        "            learning_rate=learning_rate,\n",
        "            batch_size=self.batch_size,\n",
        "            mini_batch_size=1,\n",
        "            gradient_accumulation_steps=1,\n",
        "            ppo_epochs=4\n",
        "        )\n",
        "        self.ppo_trainer = PPOTrainer(\n",
        "            config=config,\n",
        "            model=self.model,\n",
        "            ref_model=self.ref_model,\n",
        "            tokenizer=self.tokenizer,\n",
        "        )\n",
        "        print(\"🎯 PPO Trainer initialized!\")\n",
        "\n",
        "    def generate_response(self, prompt: str, max_new_tokens=50) -> Tuple[str, torch.Tensor]:\n",
        "        inputs = self.tokenizer(prompt, return_tensors=\"pt\", max_length=self.max_length, truncation=True, padding=True).to(device)\n",
        "        with torch.no_grad():\n",
        "            output = self.model.generate(\n",
        "                **inputs,\n",
        "                max_new_tokens=max_new_tokens,\n",
        "                do_sample=True,\n",
        "                temperature=0.7,\n",
        "                pad_token_id=self.tokenizer.pad_token_id,\n",
        "                eos_token_id=self.tokenizer.eos_token_id,\n",
        "            )\n",
        "        generated_tokens = output[0][inputs['input_ids'].shape[-1]:]\n",
        "        response = self.tokenizer.decode(generated_tokens, skip_special_tokens=True)\n",
        "        return response, generated_tokens\n",
        "\n",
        "    def compute_reward(self, responses: List[str]) -> List[float]:\n",
        "      rewards = []\n",
        "      for response in responses:\n",
        "          try:\n",
        "              sentiment_scores = self.reward_model(response)\n",
        "              if isinstance(sentiment_scores, list) and isinstance(sentiment_scores[0], list):\n",
        "                  scores = sentiment_scores[0]\n",
        "              else:\n",
        "                  scores = []\n",
        "              positive_score = next((s['score'] for s in scores if s['label'].upper() in ['POSITIVE', 'LABEL_2']), 0.0)\n",
        "              reward = (positive_score - 0.5) * 2\n",
        "\n",
        "              # Penalize repetition\n",
        "              unique_tokens = len(set(response.split()))\n",
        "              total_tokens = len(response.split())\n",
        "              diversity_score = unique_tokens / (total_tokens + 1e-5)\n",
        "              repetition_penalty = 1.0 if diversity_score < 0.5 else 0.0\n",
        "              reward -= repetition_penalty  # Lower reward if too repetitive\n",
        "\n",
        "              rewards.append(reward)\n",
        "          except Exception as e:\n",
        "              print(f\"⚠️ Error computing reward: {e}\")\n",
        "              rewards.append(0.0)\n",
        "      return rewards\n",
        "\n",
        "    def train_step(self, prompts: List[str], steps=60):\n",
        "      avg_rewards = []  # Store average rewards for each step\n",
        "\n",
        "      for step in tqdm(range(steps), desc=\"Training RLHF\"):\n",
        "          batch_prompts = prompts[:self.batch_size]\n",
        "          responses, responses_tokenized = [], []\n",
        "\n",
        "          for prompt in batch_prompts:\n",
        "              response, _ = self.generate_response(prompt)\n",
        "              responses.append(response)\n",
        "              # Ensure tokenized responses are LongTensors\n",
        "              responses_tokenized.append(\n",
        "                  self.tokenizer(response, return_tensors=\"pt\").input_ids[0].to(torch.long)\n",
        "              )\n",
        "\n",
        "          # Ensure tokenized prompts are LongTensors\n",
        "          tokenized_prompts = [\n",
        "              self.tokenizer(p, return_tensors=\"pt\").input_ids[0].to(torch.long)\n",
        "              for p in batch_prompts\n",
        "          ]\n",
        "\n",
        "          # Compute rewards and convert to float tensors on the correct device\n",
        "          rewards_raw = self.compute_reward(responses)\n",
        "          device = next(self.model.parameters()).device\n",
        "          rewards = [torch.tensor(r, dtype=torch.float32).to(device) for r in rewards_raw]\n",
        "\n",
        "          try:\n",
        "              # PPO training step\n",
        "              stats = self.ppo_trainer.step(tokenized_prompts, responses_tokenized, rewards)\n",
        "              avg_reward = float(torch.mean(torch.tensor(rewards_raw)))\n",
        "              avg_rewards.append(avg_reward)\n",
        "\n",
        "              print(f\"✅ Step {step} | Avg reward: {avg_reward:.3f}\")\n",
        "              print(f\"📝 Prompt: {batch_prompts[0]}\")\n",
        "              print(f\"💬 Response: {responses[0]}\")\n",
        "              print(f\"🎯 Reward: {rewards_raw[0]:.3f}\")\n",
        "              print(\"-\" * 50)\n",
        "\n",
        "          except Exception as e:\n",
        "              print(f\"❌ PPO step error: {e}\")\n",
        "\n",
        "      # 📈 Plot average reward per step after training\n",
        "      plt.figure(figsize=(10, 5))\n",
        "      plt.plot(range(len(avg_rewards)), avg_rewards, marker='o', color='blue')\n",
        "      plt.title(\"Average Reward Per Training Step\")\n",
        "      plt.xlabel(\"Training Step\")\n",
        "      plt.ylabel(\"Average Reward\")\n",
        "      plt.grid(True)\n",
        "      plt.tight_layout()\n",
        "      plt.show()\n",
        "\n",
        "    def evaluate_model(self, prompts: List[str]):\n",
        "        print(\"📊 Evaluating model performance...\")\n",
        "        rewards = []\n",
        "        for prompt in prompts:\n",
        "            response, _ = self.generate_response(prompt)\n",
        "            reward = self.compute_reward([response])[0]\n",
        "            print(f\"📝 Prompt: {prompt}\")\n",
        "            print(f\"💬 Response: {response}\")\n",
        "            print(f\"🎯 Reward: {reward:.3f}\")\n",
        "            rewards.append(reward)\n",
        "        print(f\"\\n📈 Avg Reward: {np.mean(rewards):.3f}\")\n"
      ],
      "metadata": {
        "id": "ew9t_O5oAADH"
      },
      "execution_count": 3,
      "outputs": []
    },
    {
      "cell_type": "code",
      "source": [
        "rlhf_pipeline = RLHFResearchPipeline(model_name=\"gpt2\")\n",
        "rlhf_pipeline.setup_ppo_trainer(learning_rate=1e-5)"
      ],
      "metadata": {
        "colab": {
          "base_uri": "https://localhost:8080/"
        },
        "id": "btjKQ4ibAB93",
        "outputId": "6cc65f7e-9d67-47c4-83cf-7d97ebe77d16"
      },
      "execution_count": 4,
      "outputs": [
        {
          "output_type": "stream",
          "name": "stdout",
          "text": [
            "✅ Models loaded successfully!\n",
            "🎯 PPO Trainer initialized!\n"
          ]
        },
        {
          "output_type": "stream",
          "name": "stderr",
          "text": [
            "/usr/local/lib/python3.11/dist-packages/transformers/pipelines/text_classification.py:106: UserWarning: `return_all_scores` is now deprecated,  if want a similar functionality use `top_k=None` instead of `return_all_scores=True` or `top_k=1` instead of `return_all_scores=False`.\n",
            "  warnings.warn(\n",
            "/usr/local/lib/python3.11/dist-packages/trl/trainer/ppo_config.py:207: FutureWarning: `PPOConfig` is deprecated and will be removed in the future. Please use `PPOv2Config` with `PPOv2Trainer` instead.\n",
            "  warnings.warn(\n",
            "/usr/local/lib/python3.11/dist-packages/trl/trainer/ppo_trainer.py:193: FutureWarning: `PPOTrainer` is deprecated and will be removed in trl v0.12. Please use `PPOv2Trainer` instead.\n",
            "  warnings.warn(\n",
            "/usr/local/lib/python3.11/dist-packages/trl/trainer/ppo_trainer.py:273: UserWarning: No dataset is provided. Make sure to set config.batch_size to the correct value before training.\n",
            "  warnings.warn(\n"
          ]
        }
      ]
    },
    {
      "cell_type": "code",
      "source": [
        "training_prompts = [\n",
        "    \"Tell me about your day:\",\n",
        "    \"What's your opinion on helping others?\",\n",
        "    \"Describe a beautiful day on Japan:\",\n",
        "    \"How do you handle difficulties?\"\n",
        "]"
      ],
      "metadata": {
        "id": "6Xr8ctE_AGze"
      },
      "execution_count": 5,
      "outputs": []
    },
    {
      "cell_type": "code",
      "source": [
        "test_prompts = [\n",
        "    \"What's the best way to start the day?\",\n",
        "    \"How do you deal with stress?\",\n",
        "    \"What's your advice for happiness?\"\n",
        "]"
      ],
      "metadata": {
        "id": "0FEWn443AId-"
      },
      "execution_count": 6,
      "outputs": []
    },
    {
      "cell_type": "code",
      "source": [
        "print(\"\\n📊 Evaluation before training:\")\n",
        "rlhf_pipeline.evaluate_model(test_prompts)"
      ],
      "metadata": {
        "colab": {
          "base_uri": "https://localhost:8080/"
        },
        "id": "C3JJkAPfAKjO",
        "outputId": "ba5e6814-b647-4df1-f3fb-d297d5457fb9"
      },
      "execution_count": 7,
      "outputs": [
        {
          "output_type": "stream",
          "name": "stdout",
          "text": [
            "\n",
            "📊 Evaluation before training:\n",
            "📊 Evaluating model performance...\n",
            "📝 Prompt: What's the best way to start the day?\n",
            "💬 Response:  How about a great way to get the most out of your day?\n",
            "\n",
            "There are a couple of ways you can go about this. One way is to go about it with the right mindset, be aware of your thoughts, be open to new\n",
            "🎯 Reward: 0.733\n",
            "📝 Prompt: How do you deal with stress?\n",
            "💬 Response: \n",
            "\n",
            "It's a huge part of what we do. Stress is one of the last things we deal with and it's a huge part of what's going on in our lives. I'm usually able to control the flow of my life. So\n",
            "🎯 Reward: -0.641\n",
            "📝 Prompt: What's your advice for happiness?\n",
            "💬 Response: \n",
            "\n",
            "1. Keep your eyes open\n",
            "\n",
            "Not everyone has the same kind of experience with happiness. Sometimes it's best to avoid being told you're not happy and instead focus on finding the right way to experience it. That way, you're\n",
            "🎯 Reward: -0.019\n",
            "\n",
            "📈 Avg Reward: 0.024\n"
          ]
        }
      ]
    },
    {
      "cell_type": "code",
      "source": [
        "print(\"\\n🚀 Starting RLHF training...\")\n",
        "rlhf_pipeline.train_step(training_prompts, steps=60)"
      ],
      "metadata": {
        "colab": {
          "base_uri": "https://localhost:8080/",
          "height": 1000
        },
        "id": "55CzD725DJNE",
        "outputId": "733ea468-d6ed-40c0-f2ee-8d35807c9b77"
      },
      "execution_count": 8,
      "outputs": [
        {
          "output_type": "stream",
          "name": "stdout",
          "text": [
            "\n",
            "🚀 Starting RLHF training...\n"
          ]
        },
        {
          "output_type": "stream",
          "name": "stderr",
          "text": [
            "Training RLHF:   2%|▏         | 1/60 [00:03<03:50,  3.91s/it]"
          ]
        },
        {
          "output_type": "stream",
          "name": "stdout",
          "text": [
            "✅ Step 0 | Avg reward: 0.118\n",
            "📝 Prompt: Tell me about your day:\n",
            "💬 Response: \n",
            "\n",
            "I was with a friend for a couple of days. The first thing I did was go to a party with my friend and I was like \"You can go to a party.\" I was like \"Yeah, it's totally fine.\" She\n",
            "🎯 Reward: 0.183\n",
            "--------------------------------------------------\n"
          ]
        },
        {
          "output_type": "stream",
          "name": "stderr",
          "text": [
            "\rTraining RLHF:   3%|▎         | 2/60 [00:07<03:33,  3.67s/it]"
          ]
        },
        {
          "output_type": "stream",
          "name": "stdout",
          "text": [
            "✅ Step 1 | Avg reward: -0.160\n",
            "📝 Prompt: Tell me about your day:\n",
            "💬 Response: \n",
            "\n",
            "\"We're trying to get a little more out of our day.\n",
            "\"So when you're out on the road you're not in a bad mood, you're in a good mood, you're in a good place.\n",
            "\"\n",
            "🎯 Reward: 0.389\n",
            "--------------------------------------------------\n"
          ]
        },
        {
          "output_type": "stream",
          "name": "stderr",
          "text": [
            "\rTraining RLHF:   5%|▌         | 3/60 [00:10<03:25,  3.60s/it]"
          ]
        },
        {
          "output_type": "stream",
          "name": "stdout",
          "text": [
            "✅ Step 2 | Avg reward: -0.294\n",
            "📝 Prompt: Tell me about your day:\n",
            "💬 Response:  I don't have the time to read this.\n",
            "\n",
            "I don't have the time to read this.\n",
            "\n",
            "I have the time to read it.\n",
            "I've read every single thing.\n",
            "\n",
            "\n",
            "I've read every single thing.\n",
            "🎯 Reward: -1.894\n",
            "--------------------------------------------------\n"
          ]
        },
        {
          "output_type": "stream",
          "name": "stderr",
          "text": [
            "\rTraining RLHF:   7%|▋         | 4/60 [00:14<03:22,  3.61s/it]"
          ]
        },
        {
          "output_type": "stream",
          "name": "stdout",
          "text": [
            "✅ Step 3 | Avg reward: 0.147\n",
            "📝 Prompt: Tell me about your day:\n",
            "💬 Response: \n",
            "\n",
            "\"I'm going to be getting a lot of help with [my mom's] life. I'm going to go to a lot of business meetings and get my mom's car fixed up. We'll be having a lot of money tonight\n",
            "🎯 Reward: 0.742\n",
            "--------------------------------------------------\n"
          ]
        },
        {
          "output_type": "stream",
          "name": "stderr",
          "text": [
            "\rTraining RLHF:   8%|▊         | 5/60 [00:18<03:26,  3.76s/it]"
          ]
        },
        {
          "output_type": "stream",
          "name": "stdout",
          "text": [
            "✅ Step 4 | Avg reward: -0.234\n",
            "📝 Prompt: Tell me about your day:\n",
            "💬 Response:  What you've been working on?\n",
            "\n",
            "Alex: Hello?\n",
            "\n",
            "M: No, I'll see you later.\n",
            "\n",
            "Alex: I'll see you soon.\n",
            "\n",
            "Alex: Oh, but I must... I must have had a\n",
            "🎯 Reward: -0.627\n",
            "--------------------------------------------------\n"
          ]
        },
        {
          "output_type": "stream",
          "name": "stderr",
          "text": [
            "\rTraining RLHF:  10%|█         | 6/60 [00:22<03:19,  3.70s/it]"
          ]
        },
        {
          "output_type": "stream",
          "name": "stdout",
          "text": [
            "✅ Step 5 | Avg reward: -0.152\n",
            "📝 Prompt: Tell me about your day:\n",
            "💬 Response: \n",
            "\n",
            "Matt: Yeah, yeah. Yeah, yeah.\n",
            "\n",
            "Mitch: Yeah, you know, it's a lot of work.\n",
            "\n",
            "Matt: Yeah, yeah.\n",
            "\n",
            "Matt: Yeah, yeah.\n",
            "\n",
            "Mitch:\n",
            "🎯 Reward: -0.610\n",
            "--------------------------------------------------\n"
          ]
        },
        {
          "output_type": "stream",
          "name": "stderr",
          "text": [
            "\rTraining RLHF:  12%|█▏        | 7/60 [00:25<03:12,  3.64s/it]"
          ]
        },
        {
          "output_type": "stream",
          "name": "stdout",
          "text": [
            "✅ Step 6 | Avg reward: -0.340\n",
            "📝 Prompt: Tell me about your day:\n",
            "💬 Response: \n",
            "\n",
            "MR. BUSH: My name is Mark.\n",
            "\n",
            "QUESTION: That's my name?\n",
            "\n",
            "MR. BUSH: Yes.\n",
            "QUESTION: About the name?\n",
            "\n",
            "MR. BUSH: Yes.\n",
            "\n",
            "\n",
            "🎯 Reward: -0.723\n",
            "--------------------------------------------------\n"
          ]
        },
        {
          "output_type": "stream",
          "name": "stderr",
          "text": [
            "/usr/local/lib/python3.11/dist-packages/trl/trainer/ppo_trainer.py:1246: UserWarning: The average ratio of batch (151.09) exceeds threshold 10.00. Skipping batch.\n",
            "  warnings.warn(\n",
            "/usr/local/lib/python3.11/dist-packages/trl/trainer/ppo_trainer.py:1246: UserWarning: The average ratio of batch (399.73) exceeds threshold 10.00. Skipping batch.\n",
            "  warnings.warn(\n",
            "/usr/local/lib/python3.11/dist-packages/trl/trainer/ppo_trainer.py:1246: UserWarning: The average ratio of batch (406.47) exceeds threshold 10.00. Skipping batch.\n",
            "  warnings.warn(\n",
            "Training RLHF:  13%|█▎        | 8/60 [00:29<03:18,  3.81s/it]"
          ]
        },
        {
          "output_type": "stream",
          "name": "stdout",
          "text": [
            "✅ Step 7 | Avg reward: -0.216\n",
            "📝 Prompt: Tell me about your day:\n",
            "💬 Response:  you know, I get myself a lot of different things.\n",
            "\n",
            "A: [Laughs] Yeah, that's why I've got a lot of different things.\n",
            "\n",
            "R: You know, I have two big, big, big days.\n",
            "🎯 Reward: -0.170\n",
            "--------------------------------------------------\n"
          ]
        },
        {
          "output_type": "stream",
          "name": "stderr",
          "text": [
            "\rTraining RLHF:  15%|█▌        | 9/60 [00:33<03:09,  3.71s/it]"
          ]
        },
        {
          "output_type": "stream",
          "name": "stdout",
          "text": [
            "✅ Step 8 | Avg reward: -0.589\n",
            "📝 Prompt: Tell me about your day:\n",
            "💬 Response: \n",
            "\n",
            "MATTNANCY. DAVID'S. I mean, you don't have any other day?\n",
            "\n",
            "MMATT. No.\n",
            "\n",
            "QUESTION.\n",
            "\n",
            "UNKNOWN.\n",
            "\n",
            "QUESTION.\n",
            "\n",
            "\n",
            "\n",
            "🎯 Reward: -0.808\n",
            "--------------------------------------------------\n"
          ]
        },
        {
          "output_type": "stream",
          "name": "stderr",
          "text": [
            "\rTraining RLHF:  17%|█▋        | 10/60 [00:36<03:04,  3.69s/it]"
          ]
        },
        {
          "output_type": "stream",
          "name": "stdout",
          "text": [
            "✅ Step 9 | Avg reward: 0.417\n",
            "📝 Prompt: Tell me about your day:\n",
            "💬 Response: \n",
            "\n",
            "M: Oh, it's kind of a good day.\n",
            "\n",
            "MR. HARRIS:\n",
            "I'll be right back up in a minute.\n",
            "\n",
            "MR. HARRIS: Yeah.\n",
            "\n",
            "MR. HARRIS\n",
            "🎯 Reward: 0.841\n",
            "--------------------------------------------------\n"
          ]
        },
        {
          "output_type": "stream",
          "name": "stderr",
          "text": [
            "/usr/local/lib/python3.11/dist-packages/trl/trainer/ppo_trainer.py:1246: UserWarning: The average ratio of batch (14.52) exceeds threshold 10.00. Skipping batch.\n",
            "  warnings.warn(\n",
            "/usr/local/lib/python3.11/dist-packages/trl/trainer/ppo_trainer.py:1246: UserWarning: The average ratio of batch (129.78) exceeds threshold 10.00. Skipping batch.\n",
            "  warnings.warn(\n",
            "Training RLHF:  18%|█▊        | 11/60 [00:41<03:09,  3.86s/it]"
          ]
        },
        {
          "output_type": "stream",
          "name": "stdout",
          "text": [
            "✅ Step 10 | Avg reward: 0.034\n",
            "📝 Prompt: Tell me about your day:\n",
            "💬 Response: \n",
            "\n",
            "JUANUS.\n",
            "\n",
            "COOPER.\n",
            "\n",
            "Morning, you're just right.\n",
            "\n",
            "\n",
            "DONALD TRUMP.\n",
            "\n",
            "\n",
            "Morning.\n",
            "\n",
            "Morning, you're just right.\n",
            "\n",
            "DONALD TRUMP.\n",
            "\n",
            "\n",
            "🎯 Reward: 0.685\n",
            "--------------------------------------------------\n"
          ]
        },
        {
          "output_type": "stream",
          "name": "stderr",
          "text": [
            "\rTraining RLHF:  20%|██        | 12/60 [00:50<04:26,  5.55s/it]"
          ]
        },
        {
          "output_type": "stream",
          "name": "stdout",
          "text": [
            "✅ Step 11 | Avg reward: 0.087\n",
            "📝 Prompt: Tell me about your day:\n",
            "💬 Response:  I have a couple of days this week and I'm at home and you're on. Is it Saturday?\n",
            "\n",
            "Q.\n",
            "\n",
            "Q.\n",
            "\n",
            "A.\n",
            "\n",
            "Q.\n",
            "\n",
            "Q.\n",
            "\n",
            "\n",
            "SORRAGE:\n",
            "🎯 Reward: -0.704\n",
            "--------------------------------------------------\n"
          ]
        },
        {
          "output_type": "stream",
          "name": "stderr",
          "text": [
            "/usr/local/lib/python3.11/dist-packages/trl/trainer/ppo_trainer.py:1246: UserWarning: The average ratio of batch (31.98) exceeds threshold 10.00. Skipping batch.\n",
            "  warnings.warn(\n",
            "/usr/local/lib/python3.11/dist-packages/trl/trainer/ppo_trainer.py:1246: UserWarning: The average ratio of batch (5163.86) exceeds threshold 10.00. Skipping batch.\n",
            "  warnings.warn(\n",
            "/usr/local/lib/python3.11/dist-packages/trl/trainer/ppo_trainer.py:1246: UserWarning: The average ratio of batch (19940.19) exceeds threshold 10.00. Skipping batch.\n",
            "  warnings.warn(\n",
            "Training RLHF:  22%|██▏       | 13/60 [00:54<04:00,  5.12s/it]"
          ]
        },
        {
          "output_type": "stream",
          "name": "stdout",
          "text": [
            "✅ Step 12 | Avg reward: -0.221\n",
            "📝 Prompt: Tell me about your day:\n",
            "💬 Response:  morning, you're making the breakfast.\n",
            "\n",
            "DANTHONY\n",
            "\n",
            "Morning.\n",
            "\n",
            "DANNY\n",
            "\n",
            "Morning.\n",
            "\n",
            "DANNY\n",
            "\n",
            "Morning.\n",
            "\n",
            "DANNYNY\n",
            "\n",
            "Morning.\n",
            "\n",
            "Q\n",
            "\n",
            "🎯 Reward: 0.279\n",
            "--------------------------------------------------\n"
          ]
        },
        {
          "output_type": "stream",
          "name": "stderr",
          "text": [
            "/usr/local/lib/python3.11/dist-packages/trl/trainer/ppo_trainer.py:1246: UserWarning: The average ratio of batch (10.38) exceeds threshold 10.00. Skipping batch.\n",
            "  warnings.warn(\n",
            "/usr/local/lib/python3.11/dist-packages/trl/trainer/ppo_trainer.py:1246: UserWarning: The average ratio of batch (1163.64) exceeds threshold 10.00. Skipping batch.\n",
            "  warnings.warn(\n",
            "/usr/local/lib/python3.11/dist-packages/trl/trainer/ppo_trainer.py:1246: UserWarning: The average ratio of batch (1563.03) exceeds threshold 10.00. Skipping batch.\n",
            "  warnings.warn(\n",
            "Training RLHF:  23%|██▎       | 14/60 [00:58<03:34,  4.66s/it]"
          ]
        },
        {
          "output_type": "stream",
          "name": "stdout",
          "text": [
            "✅ Step 13 | Avg reward: -0.239\n",
            "📝 Prompt: Tell me about your day:\n",
            "💬 Response: \n",
            "\n",
            "President Obama.\n",
            "Yours.\n",
            "Mr. Trump.\n",
            "\n",
            "Mr. Trump.\n",
            "\n",
            "Mr. Trump.\n",
            "\n",
            "Mr. Trump.\n",
            "\n",
            "Mr. Trump.\n",
            "Mr. Trump.\n",
            "\n",
            "Mr. Trump.\n",
            "\n",
            "🎯 Reward: -1.257\n",
            "--------------------------------------------------\n"
          ]
        },
        {
          "output_type": "stream",
          "name": "stderr",
          "text": [
            "/usr/local/lib/python3.11/dist-packages/trl/trainer/ppo_trainer.py:1246: UserWarning: The average ratio of batch (32.10) exceeds threshold 10.00. Skipping batch.\n",
            "  warnings.warn(\n",
            "/usr/local/lib/python3.11/dist-packages/trl/trainer/ppo_trainer.py:1246: UserWarning: The average ratio of batch (97.84) exceeds threshold 10.00. Skipping batch.\n",
            "  warnings.warn(\n",
            "/usr/local/lib/python3.11/dist-packages/trl/trainer/ppo_trainer.py:1246: UserWarning: The average ratio of batch (152.88) exceeds threshold 10.00. Skipping batch.\n",
            "  warnings.warn(\n",
            "Training RLHF:  25%|██▌       | 15/60 [01:01<03:14,  4.32s/it]"
          ]
        },
        {
          "output_type": "stream",
          "name": "stdout",
          "text": [
            "✅ Step 14 | Avg reward: -0.152\n",
            "📝 Prompt: Tell me about your day:\n",
            "💬 Response: \n",
            "\n",
            "Teddy\n",
            "\n",
            "Kanye\n",
            "\n",
            "Kanye\n",
            "\n",
            "Seat\n",
            "\n",
            "Kanye\n",
            "\n",
            "ChCh\n",
            "\n",
            "\n",
            "You gotta\n",
            "\n",
            "Teddy\n",
            "\n",
            "Seat\n",
            "\n",
            "Kanye\n",
            "\n",
            "\n",
            "YEAH\n",
            "\n",
            "D\n",
            "🎯 Reward: 0.110\n",
            "--------------------------------------------------\n"
          ]
        },
        {
          "output_type": "stream",
          "name": "stderr",
          "text": [
            "\rTraining RLHF:  27%|██▋       | 16/60 [01:06<03:08,  4.28s/it]"
          ]
        },
        {
          "output_type": "stream",
          "name": "stdout",
          "text": [
            "✅ Step 15 | Avg reward: -0.388\n",
            "📝 Prompt: Tell me about your day:\n",
            "💬 Response: \n",
            "\n",
            "Mr. Trump\n",
            "\n",
            "The Donald\n",
            "\n",
            "The Donald\n",
            "Mr. Trump\n",
            "\n",
            "Mr. Trump\n",
            "\n",
            "\n",
            "Mr. Trump\n",
            "\n",
            "Mr. Trump\n",
            "\n",
            "Mr. Trump\n",
            "\n",
            "Mr. Trump\n",
            "\n",
            "Mr. Trump\n",
            "\n",
            "\n",
            "🎯 Reward: -1.784\n",
            "--------------------------------------------------\n"
          ]
        },
        {
          "output_type": "stream",
          "name": "stderr",
          "text": [
            "/usr/local/lib/python3.11/dist-packages/trl/trainer/ppo_trainer.py:1246: UserWarning: The average ratio of batch (26.93) exceeds threshold 10.00. Skipping batch.\n",
            "  warnings.warn(\n",
            "\rTraining RLHF:  28%|██▊       | 17/60 [01:17<04:40,  6.51s/it]"
          ]
        },
        {
          "output_type": "stream",
          "name": "stdout",
          "text": [
            "✅ Step 16 | Avg reward: -0.687\n",
            "📝 Prompt: Tell me about your day:\n",
            "💬 Response: \n",
            "\n",
            "[Breeder] John M. DeNardo\n",
            "\n",
            "WHY AMENIE\n",
            "\n",
            "\n",
            "AMIE\n",
            "\n",
            "\n",
            "[Breeder] John M.\n",
            "\n",
            "WHY AMEN AMENIE\n",
            "\n",
            "AM\n",
            "\n",
            "[Bre\n",
            "🎯 Reward: -0.824\n",
            "--------------------------------------------------\n"
          ]
        },
        {
          "output_type": "stream",
          "name": "stderr",
          "text": [
            "\rTraining RLHF:  30%|███       | 18/60 [01:21<03:57,  5.65s/it]"
          ]
        },
        {
          "output_type": "stream",
          "name": "stdout",
          "text": [
            "✅ Step 17 | Avg reward: -0.557\n",
            "📝 Prompt: Tell me about your day:\n",
            "💬 Response:  Day Morning Morning Morning Morning Morning Morning Morning Morning Morning Morning Morning Morning Morning Morning Morning Morning Morning Morning Morning Morning Morning Morning Morning Morning Morning Morning Morning Morning Morning Morning Morning Morning Morning Morning Morning Morning Morning Morning Morning Morning Morning Morning Morning Morning Morning Morning Morning Morning Morning\n",
            "🎯 Reward: -1.091\n",
            "--------------------------------------------------\n"
          ]
        },
        {
          "output_type": "stream",
          "name": "stderr",
          "text": [
            "/usr/local/lib/python3.11/dist-packages/trl/trainer/ppo_trainer.py:1246: UserWarning: The average ratio of batch (155.58) exceeds threshold 10.00. Skipping batch.\n",
            "  warnings.warn(\n",
            "/usr/local/lib/python3.11/dist-packages/trl/trainer/ppo_trainer.py:1246: UserWarning: The average ratio of batch (104.61) exceeds threshold 10.00. Skipping batch.\n",
            "  warnings.warn(\n",
            "/usr/local/lib/python3.11/dist-packages/trl/trainer/ppo_trainer.py:1246: UserWarning: The average ratio of batch (156.28) exceeds threshold 10.00. Skipping batch.\n",
            "  warnings.warn(\n",
            "/usr/local/lib/python3.11/dist-packages/trl/trainer/ppo_trainer.py:1246: UserWarning: The average ratio of batch (275.19) exceeds threshold 10.00. Skipping batch.\n",
            "  warnings.warn(\n",
            "/usr/local/lib/python3.11/dist-packages/trl/trainer/ppo_trainer.py:1246: UserWarning: The average ratio of batch (156.32) exceeds threshold 10.00. Skipping batch.\n",
            "  warnings.warn(\n",
            "Training RLHF:  32%|███▏      | 19/60 [01:25<03:27,  5.05s/it]"
          ]
        },
        {
          "output_type": "stream",
          "name": "stdout",
          "text": [
            "✅ Step 18 | Avg reward: -0.811\n",
            "📝 Prompt: Tell me about your day:\n",
            "💬 Response: \n",
            "\n",
            " White House press secretary Sean Spicer.\n",
            "\n",
            "FLORA FLOROWEYE\n",
            "\n",
            "PRESIDENT OBAMA\n",
            "\n",
            "HOM\n",
            "\n",
            "\n",
            " WTF\n",
            "\n",
            "PRESIDENT OBAMA\n",
            "\n",
            "\n",
            "\n",
            "\n",
            "\n",
            "PRESIDENT OBAMA\n",
            "🎯 Reward: -0.870\n",
            "--------------------------------------------------\n"
          ]
        },
        {
          "output_type": "stream",
          "name": "stderr",
          "text": [
            "/usr/local/lib/python3.11/dist-packages/trl/trainer/ppo_trainer.py:1246: UserWarning: The average ratio of batch (159.78) exceeds threshold 10.00. Skipping batch.\n",
            "  warnings.warn(\n",
            "/usr/local/lib/python3.11/dist-packages/trl/trainer/ppo_trainer.py:1246: UserWarning: The average ratio of batch (82.04) exceeds threshold 10.00. Skipping batch.\n",
            "  warnings.warn(\n",
            "/usr/local/lib/python3.11/dist-packages/trl/trainer/ppo_trainer.py:1246: UserWarning: The average ratio of batch (142.65) exceeds threshold 10.00. Skipping batch.\n",
            "  warnings.warn(\n",
            "/usr/local/lib/python3.11/dist-packages/trl/trainer/ppo_trainer.py:1246: UserWarning: The average ratio of batch (670.65) exceeds threshold 10.00. Skipping batch.\n",
            "  warnings.warn(\n",
            "/usr/local/lib/python3.11/dist-packages/trl/trainer/ppo_trainer.py:1246: UserWarning: The average ratio of batch (873.22) exceeds threshold 10.00. Skipping batch.\n",
            "  warnings.warn(\n",
            "/usr/local/lib/python3.11/dist-packages/trl/trainer/ppo_trainer.py:1246: UserWarning: The average ratio of batch (174.00) exceeds threshold 10.00. Skipping batch.\n",
            "  warnings.warn(\n",
            "Training RLHF:  33%|███▎      | 20/60 [01:28<03:07,  4.69s/it]"
          ]
        },
        {
          "output_type": "stream",
          "name": "stdout",
          "text": [
            "✅ Step 19 | Avg reward: -0.827\n",
            "📝 Prompt: Tell me about your day:\n",
            "💬 Response: \n",
            "\n",
            "* My day.\n",
            "\n",
            ".\n",
            "\n",
            ".\n",
            "\n",
            "\n",
            ".\n",
            "\n",
            ".\n",
            "\n",
            "\n",
            ".\n",
            ".\n",
            "\n",
            ".\n",
            "\n",
            ".\n",
            "\n",
            "\n",
            ".\n",
            ".\n",
            ".\n",
            ".\n",
            "\n",
            ".\n",
            "\n",
            ".\n",
            ".\n",
            "\n",
            "🎯 Reward: -1.461\n",
            "--------------------------------------------------\n"
          ]
        },
        {
          "output_type": "stream",
          "name": "stderr",
          "text": [
            "/usr/local/lib/python3.11/dist-packages/trl/trainer/ppo_trainer.py:1246: UserWarning: The average ratio of batch (16.20) exceeds threshold 10.00. Skipping batch.\n",
            "  warnings.warn(\n",
            "/usr/local/lib/python3.11/dist-packages/trl/trainer/ppo_trainer.py:1246: UserWarning: The average ratio of batch (687.81) exceeds threshold 10.00. Skipping batch.\n",
            "  warnings.warn(\n",
            "/usr/local/lib/python3.11/dist-packages/trl/trainer/ppo_trainer.py:1246: UserWarning: The average ratio of batch (695.65) exceeds threshold 10.00. Skipping batch.\n",
            "  warnings.warn(\n",
            "Training RLHF:  35%|███▌      | 21/60 [01:32<02:53,  4.44s/it]"
          ]
        },
        {
          "output_type": "stream",
          "name": "stdout",
          "text": [
            "✅ Step 20 | Avg reward: 0.224\n",
            "📝 Prompt: Tell me about your day:\n",
            "💬 Response:  My office.\n",
            "\n",
            "HARRIS: Yeah.\n",
            "\n",
            "\n",
            "ARRARRARRARRARRARRARRARRARRARRARRARRARRARRARRARRARRARRARRARRARRARRARRARRARRARRARRARRARRARRARRARRARRARRARRARR\n",
            "🎯 Reward: -0.272\n",
            "--------------------------------------------------\n"
          ]
        },
        {
          "output_type": "stream",
          "name": "stderr",
          "text": [
            "/usr/local/lib/python3.11/dist-packages/trl/trainer/ppo_trainer.py:1246: UserWarning: The average ratio of batch (2437.27) exceeds threshold 10.00. Skipping batch.\n",
            "  warnings.warn(\n",
            "/usr/local/lib/python3.11/dist-packages/trl/trainer/ppo_trainer.py:1246: UserWarning: The average ratio of batch (4604.58) exceeds threshold 10.00. Skipping batch.\n",
            "  warnings.warn(\n",
            "/usr/local/lib/python3.11/dist-packages/trl/trainer/ppo_trainer.py:1246: UserWarning: The average ratio of batch (5492.59) exceeds threshold 10.00. Skipping batch.\n",
            "  warnings.warn(\n",
            "Training RLHF:  37%|███▋      | 22/60 [01:36<02:39,  4.19s/it]"
          ]
        },
        {
          "output_type": "stream",
          "name": "stdout",
          "text": [
            "✅ Step 21 | Avg reward: 0.042\n",
            "📝 Prompt: Tell me about your day:\n",
            "💬 Response:  Have you got a day to do?\n",
            "\n",
            "T. J. T.\n",
            "\n",
            "\n",
            "T.\n",
            "\n",
            "AM\n",
            "\n",
            ".\n",
            "\n",
            "AM\n",
            "\n",
            "AM\n",
            "\n",
            "AM\n",
            "\n",
            "\n",
            "AM\n",
            "AM\n",
            "\n",
            ".\n",
            "\n",
            "AM\n",
            "\n",
            "\n",
            "🎯 Reward: -0.426\n",
            "--------------------------------------------------\n"
          ]
        },
        {
          "output_type": "stream",
          "name": "stderr",
          "text": [
            "/usr/local/lib/python3.11/dist-packages/trl/trainer/ppo_trainer.py:1246: UserWarning: The average ratio of batch (42.90) exceeds threshold 10.00. Skipping batch.\n",
            "  warnings.warn(\n",
            "/usr/local/lib/python3.11/dist-packages/trl/trainer/ppo_trainer.py:1246: UserWarning: The average ratio of batch (103.69) exceeds threshold 10.00. Skipping batch.\n",
            "  warnings.warn(\n",
            "/usr/local/lib/python3.11/dist-packages/trl/trainer/ppo_trainer.py:1246: UserWarning: The average ratio of batch (342.61) exceeds threshold 10.00. Skipping batch.\n",
            "  warnings.warn(\n",
            "Training RLHF:  38%|███▊      | 23/60 [01:40<02:28,  4.03s/it]"
          ]
        },
        {
          "output_type": "stream",
          "name": "stdout",
          "text": [
            "✅ Step 22 | Avg reward: -1.051\n",
            "📝 Prompt: Tell me about your day:\n",
            "💬 Response:  I'm doing my job.\n",
            "\n",
            "PATRICK MOY\n",
            "\n",
            "I'm working.\n",
            "\n",
            "The\n",
            "\n",
            "THE\n",
            "\n",
            "What's your name?\n",
            "\n",
            "PATRICK MOY\n",
            "\n",
            "\n",
            "I'm a\n",
            "\n",
            "THE\n",
            "🎯 Reward: -0.095\n",
            "--------------------------------------------------\n"
          ]
        },
        {
          "output_type": "stream",
          "name": "stderr",
          "text": [
            "/usr/local/lib/python3.11/dist-packages/trl/trainer/ppo_trainer.py:1246: UserWarning: The average ratio of batch (547.10) exceeds threshold 10.00. Skipping batch.\n",
            "  warnings.warn(\n",
            "/usr/local/lib/python3.11/dist-packages/trl/trainer/ppo_trainer.py:1246: UserWarning: The average ratio of batch (21212.67) exceeds threshold 10.00. Skipping batch.\n",
            "  warnings.warn(\n",
            "/usr/local/lib/python3.11/dist-packages/trl/trainer/ppo_trainer.py:1246: UserWarning: The average ratio of batch (82342.53) exceeds threshold 10.00. Skipping batch.\n",
            "  warnings.warn(\n",
            "Training RLHF:  40%|████      | 24/60 [01:44<02:26,  4.08s/it]"
          ]
        },
        {
          "output_type": "stream",
          "name": "stdout",
          "text": [
            "✅ Step 23 | Avg reward: -0.087\n",
            "📝 Prompt: Tell me about your day:\n",
            "💬 Response:  It's a good start— I woke up at breakfast— I've got some news today, and I've got some news now. You know, we're going to be shooting more later tonight. Tonight.\n",
            "\n",
            "COCOBOY:\n",
            "🎯 Reward: 0.932\n",
            "--------------------------------------------------\n"
          ]
        },
        {
          "output_type": "stream",
          "name": "stderr",
          "text": [
            "\rTraining RLHF:  42%|████▏     | 25/60 [01:47<02:17,  3.93s/it]"
          ]
        },
        {
          "output_type": "stream",
          "name": "stdout",
          "text": [
            "✅ Step 24 | Avg reward: -0.921\n",
            "📝 Prompt: Tell me about your day:\n",
            "💬 Response:  Tuesday morning I was getting a call from Dr. Johnson. He said that's a week off. But I've been off doing some stuff. So I'm trying to get my time off when I'm ready to get back into the gym. No\n",
            "🎯 Reward: -0.829\n",
            "--------------------------------------------------\n"
          ]
        },
        {
          "output_type": "stream",
          "name": "stderr",
          "text": [
            "\rTraining RLHF:  43%|████▎     | 26/60 [01:51<02:10,  3.84s/it]"
          ]
        },
        {
          "output_type": "stream",
          "name": "stdout",
          "text": [
            "✅ Step 25 | Avg reward: -0.850\n",
            "📝 Prompt: Tell me about your day:\n",
            "💬 Response:  I'm up, doing a book and I'm doing a book.\n",
            "\n",
            "\n",
            "Captain America: Hey, you're working.\n",
            "\n",
            "Captain America: You're doing a book.\n",
            "Captain Marvel: I was working on a book.\n",
            "\n",
            "\n",
            "🎯 Reward: -0.229\n",
            "--------------------------------------------------\n"
          ]
        },
        {
          "output_type": "stream",
          "name": "stderr",
          "text": [
            "\rTraining RLHF:  45%|████▌     | 27/60 [01:55<02:11,  3.98s/it]"
          ]
        },
        {
          "output_type": "stream",
          "name": "stdout",
          "text": [
            "✅ Step 26 | Avg reward: -0.108\n",
            "📝 Prompt: Tell me about your day:\n",
            "💬 Response:  [Cue] A little bit of my day. A little bit of the day. [Cue] [Intimidation of a woman.] I'm not going to be a baby again. [Cue] [Intimidation of a\n",
            "🎯 Reward: -0.876\n",
            "--------------------------------------------------\n"
          ]
        },
        {
          "output_type": "stream",
          "name": "stderr",
          "text": [
            "\rTraining RLHF:  47%|████▋     | 28/60 [01:59<02:03,  3.86s/it]"
          ]
        },
        {
          "output_type": "stream",
          "name": "stdout",
          "text": [
            "✅ Step 27 | Avg reward: -1.105\n",
            "📝 Prompt: Tell me about your day:\n",
            "💬 Response:  \"The Hobbit: An introduction of the new feature about the new feature about the new feature about You're Not Going to Make It In The Hobbit: The Hobbit - - - - - - - - - - - - - - - - - -\n",
            "🎯 Reward: -1.674\n",
            "--------------------------------------------------\n"
          ]
        },
        {
          "output_type": "stream",
          "name": "stderr",
          "text": [
            "/usr/local/lib/python3.11/dist-packages/trl/trainer/ppo_trainer.py:1246: UserWarning: The average ratio of batch (10.46) exceeds threshold 10.00. Skipping batch.\n",
            "  warnings.warn(\n",
            "\rTraining RLHF:  48%|████▊     | 29/60 [02:02<01:56,  3.76s/it]"
          ]
        },
        {
          "output_type": "stream",
          "name": "stdout",
          "text": [
            "✅ Step 28 | Avg reward: -0.935\n",
            "📝 Prompt: Tell me about your day:\n",
            "💬 Response: \n",
            "\n",
            "- I'm off for a bit.\n",
            "- (You're off for a bit.)\n",
            "\n",
            "- (Yeah.\n",
            "\n",
            "- (You're off for a bit.)\n",
            "\n",
            "- (I'm off.)\n",
            "\n",
            "- (Yeah\n",
            "🎯 Reward: -1.725\n",
            "--------------------------------------------------\n"
          ]
        },
        {
          "output_type": "stream",
          "name": "stderr",
          "text": [
            "\rTraining RLHF:  50%|█████     | 30/60 [02:07<01:56,  3.88s/it]"
          ]
        },
        {
          "output_type": "stream",
          "name": "stdout",
          "text": [
            "✅ Step 29 | Avg reward: -0.986\n",
            "📝 Prompt: Tell me about your day:\n",
            "💬 Response:  Thursday afternoon.\n",
            "\n",
            "Mr. M. M M.\n",
            "\n",
            "Mr. M. M.\n",
            "\n",
            "Mr. M M.\n",
            "\n",
            "You're not doing any of that?\n",
            "\n",
            "Mr. M. M. M.\n",
            "\n",
            "Mr\n",
            "🎯 Reward: -0.872\n",
            "--------------------------------------------------\n"
          ]
        },
        {
          "output_type": "stream",
          "name": "stderr",
          "text": [
            "/usr/local/lib/python3.11/dist-packages/trl/trainer/ppo_trainer.py:1246: UserWarning: The average ratio of batch (33.02) exceeds threshold 10.00. Skipping batch.\n",
            "  warnings.warn(\n",
            "/usr/local/lib/python3.11/dist-packages/trl/trainer/ppo_trainer.py:1246: UserWarning: The average ratio of batch (112.31) exceeds threshold 10.00. Skipping batch.\n",
            "  warnings.warn(\n",
            "/usr/local/lib/python3.11/dist-packages/trl/trainer/ppo_trainer.py:1246: UserWarning: The average ratio of batch (108.42) exceeds threshold 10.00. Skipping batch.\n",
            "  warnings.warn(\n",
            "Training RLHF:  52%|█████▏    | 31/60 [02:10<01:49,  3.78s/it]"
          ]
        },
        {
          "output_type": "stream",
          "name": "stdout",
          "text": [
            "✅ Step 30 | Avg reward: -1.232\n",
            "📝 Prompt: Tell me about your day:\n",
            "💬 Response:  Tuesday, Wednesday, Thursday, Friday, evening.\n",
            "\n",
            "Captain, I'm off to the office.\n",
            "\n",
            "Captain, I'm off to the office.\n",
            "\n",
            "Captain, Captain, I'm off to the office.\n",
            "\n",
            "Captain, I\n",
            "🎯 Reward: -1.380\n",
            "--------------------------------------------------\n"
          ]
        },
        {
          "output_type": "stream",
          "name": "stderr",
          "text": [
            "\rTraining RLHF:  53%|█████▎    | 32/60 [02:14<01:44,  3.72s/it]"
          ]
        },
        {
          "output_type": "stream",
          "name": "stdout",
          "text": [
            "✅ Step 31 | Avg reward: -0.781\n",
            "📝 Prompt: Tell me about your day:\n",
            "💬 Response:  Dinner today. Mr. SIRIEL I'm being up early now. Sir. SIRIEL Come on. Mr. SIRIEL I'm up. I'm up up up up up up up up up up up up up\n",
            "🎯 Reward: -0.911\n",
            "--------------------------------------------------\n"
          ]
        },
        {
          "output_type": "stream",
          "name": "stderr",
          "text": [
            "/usr/local/lib/python3.11/dist-packages/trl/trainer/ppo_trainer.py:1246: UserWarning: The average ratio of batch (10.83) exceeds threshold 10.00. Skipping batch.\n",
            "  warnings.warn(\n",
            "Training RLHF:  55%|█████▌    | 33/60 [02:18<01:42,  3.79s/it]"
          ]
        },
        {
          "output_type": "stream",
          "name": "stdout",
          "text": [
            "✅ Step 32 | Avg reward: -1.056\n",
            "📝 Prompt: Tell me about your day:\n",
            "💬 Response:  You're talking about that day.\n",
            "\n",
            "Mr. Carter: Yes.\n",
            "\n",
            "\n",
            "Mr. Carter: Yes.\n",
            "Mr. Carter: (Convenience show)\n",
            "Mr. (In the hotel room. )\n",
            "\n",
            "Mr. Carter\n",
            "🎯 Reward: -0.771\n",
            "--------------------------------------------------\n"
          ]
        },
        {
          "output_type": "stream",
          "name": "stderr",
          "text": [
            "/usr/local/lib/python3.11/dist-packages/trl/trainer/ppo_trainer.py:1246: UserWarning: The average ratio of batch (14.37) exceeds threshold 10.00. Skipping batch.\n",
            "  warnings.warn(\n",
            "/usr/local/lib/python3.11/dist-packages/trl/trainer/ppo_trainer.py:1246: UserWarning: The average ratio of batch (22.38) exceeds threshold 10.00. Skipping batch.\n",
            "  warnings.warn(\n",
            "Training RLHF:  57%|█████▋    | 34/60 [02:21<01:37,  3.75s/it]"
          ]
        },
        {
          "output_type": "stream",
          "name": "stdout",
          "text": [
            "✅ Step 33 | Avg reward: -1.366\n",
            "📝 Prompt: Tell me about your day:\n",
            "💬 Response:  Morning Monday Morning Tuesday Tuesday Monday\n",
            "\n",
            "Morning Tuesday Tuesday Tuesday Monday Tuesday Tuesday Wednesday Thursday Friday Saturday Sunday Sunday Monday Tuesday Tuesday Wednesday Wednesday Thursday Thursday Thursday Friday Saturday Sunday Saturday Friday Saturday Saturday Sunday Monday Monday Tuesday Wednesday Thursday Friday Friday Saturday Saturday Sunday Sunday Monday Tuesday\n",
            "🎯 Reward: -1.609\n",
            "--------------------------------------------------\n"
          ]
        },
        {
          "output_type": "stream",
          "name": "stderr",
          "text": [
            "/usr/local/lib/python3.11/dist-packages/trl/trainer/ppo_trainer.py:1246: UserWarning: The average ratio of batch (22.16) exceeds threshold 10.00. Skipping batch.\n",
            "  warnings.warn(\n",
            "\rTraining RLHF:  58%|█████▊    | 35/60 [02:25<01:32,  3.69s/it]"
          ]
        },
        {
          "output_type": "stream",
          "name": "stdout",
          "text": [
            "✅ Step 34 | Avg reward: -1.141\n",
            "📝 Prompt: Tell me about your day:\n",
            "💬 Response:  Sunday\n",
            "\n",
            "Doctor Strange: Hello Doctor\n",
            "\n",
            "Doctor Strange: Good morning Doctor\n",
            "\n",
            "Doctor Strange: Good morning Doctor Strange\n",
            "\n",
            "\n",
            "Doctor Strange: Good morning Doctor Strange\n",
            "\n",
            "Doctor Strange: Good morning Doctor Strange Doctor Strange\n",
            "\n",
            "Doctor Strange\n",
            "🎯 Reward: -0.600\n",
            "--------------------------------------------------\n"
          ]
        },
        {
          "output_type": "stream",
          "name": "stderr",
          "text": [
            "/usr/local/lib/python3.11/dist-packages/trl/trainer/ppo_trainer.py:1246: UserWarning: The average ratio of batch (13.71) exceeds threshold 10.00. Skipping batch.\n",
            "  warnings.warn(\n",
            "/usr/local/lib/python3.11/dist-packages/trl/trainer/ppo_trainer.py:1246: UserWarning: The average ratio of batch (25.42) exceeds threshold 10.00. Skipping batch.\n",
            "  warnings.warn(\n",
            "Training RLHF:  60%|██████    | 36/60 [02:29<01:28,  3.69s/it]"
          ]
        },
        {
          "output_type": "stream",
          "name": "stdout",
          "text": [
            "✅ Step 35 | Avg reward: -0.694\n",
            "📝 Prompt: Tell me about your day:\n",
            "💬 Response:  How did that happen? [to Senna] \"I'm doing my homework. You're looking at the computer. You're looking at the phone. You're looking at the computer. [ to Senna] You're looking at the computer.\n",
            "🎯 Reward: -0.866\n",
            "--------------------------------------------------\n"
          ]
        },
        {
          "output_type": "stream",
          "name": "stderr",
          "text": [
            "/usr/local/lib/python3.11/dist-packages/trl/trainer/ppo_trainer.py:1246: UserWarning: The average ratio of batch (25.99) exceeds threshold 10.00. Skipping batch.\n",
            "  warnings.warn(\n",
            "/usr/local/lib/python3.11/dist-packages/trl/trainer/ppo_trainer.py:1246: UserWarning: The average ratio of batch (24.36) exceeds threshold 10.00. Skipping batch.\n",
            "  warnings.warn(\n",
            "Training RLHF:  62%|██████▏   | 37/60 [02:32<01:26,  3.77s/it]"
          ]
        },
        {
          "output_type": "stream",
          "name": "stdout",
          "text": [
            "✅ Step 36 | Avg reward: -1.287\n",
            "📝 Prompt: Tell me about your day:\n",
            "💬 Response: \n",
            "\n",
            "[Brock] – [ [ 'Gentle and gentlemanly' ]\n",
            "\n",
            "[ [ 'Brock' ]\n",
            "\n",
            "[ [ 'Brock' ]\n",
            "\n",
            "[ [ 'Brock' ]\n",
            "\n",
            "[ [ 'B\n",
            "🎯 Reward: -1.652\n",
            "--------------------------------------------------\n"
          ]
        },
        {
          "output_type": "stream",
          "name": "stderr",
          "text": [
            "\rTraining RLHF:  63%|██████▎   | 38/60 [02:36<01:21,  3.70s/it]"
          ]
        },
        {
          "output_type": "stream",
          "name": "stdout",
          "text": [
            "✅ Step 37 | Avg reward: -1.311\n",
            "📝 Prompt: Tell me about your day:\n",
            "💬 Response: \n",
            "\n",
            "[GTA]\n",
            "\n",
            "[W]\n",
            "\n",
            "[M]\n",
            "\n",
            "[W\n",
            "\n",
            "[W]\n",
            "\n",
            "[H]\n",
            "\n",
            "[C]\n",
            "\n",
            "[C]\n",
            "\n",
            "[C]\n",
            "\n",
            "[C]\n",
            "🎯 Reward: -0.737\n",
            "--------------------------------------------------\n"
          ]
        },
        {
          "output_type": "stream",
          "name": "stderr",
          "text": [
            "/usr/local/lib/python3.11/dist-packages/trl/trainer/ppo_trainer.py:1246: UserWarning: The average ratio of batch (1030.81) exceeds threshold 10.00. Skipping batch.\n",
            "  warnings.warn(\n",
            "/usr/local/lib/python3.11/dist-packages/trl/trainer/ppo_trainer.py:1246: UserWarning: The average ratio of batch (78370.36) exceeds threshold 10.00. Skipping batch.\n",
            "  warnings.warn(\n",
            "/usr/local/lib/python3.11/dist-packages/trl/trainer/ppo_trainer.py:1246: UserWarning: The average ratio of batch (385280.69) exceeds threshold 10.00. Skipping batch.\n",
            "  warnings.warn(\n",
            "Training RLHF:  65%|██████▌   | 39/60 [02:40<01:16,  3.66s/it]"
          ]
        },
        {
          "output_type": "stream",
          "name": "stdout",
          "text": [
            "✅ Step 38 | Avg reward: -1.137\n",
            "📝 Prompt: Tell me about your day:\n",
            "💬 Response: \n",
            "\n",
            "This is about the 12th of the day.\n",
            "\n",
            "This is about the 12th of the day.\n",
            "\n",
            "This is about the 12th of the day.\n",
            "\n",
            "This is about the 12th of the day.\n",
            "\n",
            "\n",
            "🎯 Reward: -1.481\n",
            "--------------------------------------------------\n"
          ]
        },
        {
          "output_type": "stream",
          "name": "stderr",
          "text": [
            "/usr/local/lib/python3.11/dist-packages/trl/trainer/ppo_trainer.py:1246: UserWarning: The average ratio of batch (12.07) exceeds threshold 10.00. Skipping batch.\n",
            "  warnings.warn(\n",
            "/usr/local/lib/python3.11/dist-packages/trl/trainer/ppo_trainer.py:1246: UserWarning: The average ratio of batch (209.02) exceeds threshold 10.00. Skipping batch.\n",
            "  warnings.warn(\n",
            "/usr/local/lib/python3.11/dist-packages/trl/trainer/ppo_trainer.py:1246: UserWarning: The average ratio of batch (304.08) exceeds threshold 10.00. Skipping batch.\n",
            "  warnings.warn(\n",
            "Training RLHF:  67%|██████▋   | 40/60 [02:44<01:16,  3.82s/it]"
          ]
        },
        {
          "output_type": "stream",
          "name": "stdout",
          "text": [
            "✅ Step 39 | Avg reward: -1.284\n",
            "📝 Prompt: Tell me about your day:\n",
            "💬 Response:  Night\n",
            "\n",
            "Sleep: Office Time\n",
            "\n",
            "\n",
            "Hey\n",
            "\n",
            "Morning\n",
            "\n",
            "\n",
            "Morning\n",
            "\n",
            "\n",
            "Hey\n",
            "\n",
            "Hey\n",
            "\n",
            "Morning\n",
            "\n",
            "\n",
            "Morning\n",
            "\n",
            "\n",
            "Hey\n",
            "\n",
            "Morning\n",
            "\n",
            "Morning\n",
            "\n",
            "Morning\n",
            "\n",
            "Morning\n",
            "\n",
            "\n",
            "🎯 Reward: -1.634\n",
            "--------------------------------------------------\n"
          ]
        },
        {
          "output_type": "stream",
          "name": "stderr",
          "text": [
            "\rTraining RLHF:  68%|██████▊   | 41/60 [02:47<01:10,  3.72s/it]"
          ]
        },
        {
          "output_type": "stream",
          "name": "stdout",
          "text": [
            "✅ Step 40 | Avg reward: -1.304\n",
            "📝 Prompt: Tell me about your day:\n",
            "💬 Response:  I'm up at the airport in a plane out in the airport in the airport in the airport in the airport in the airport in the airport in the airport in the airport in the airport in the airport in the airport in the airport in the airport in\n",
            "🎯 Reward: -1.776\n",
            "--------------------------------------------------\n"
          ]
        },
        {
          "output_type": "stream",
          "name": "stderr",
          "text": [
            "\rTraining RLHF:  70%|███████   | 42/60 [02:51<01:06,  3.68s/it]"
          ]
        },
        {
          "output_type": "stream",
          "name": "stdout",
          "text": [
            "✅ Step 41 | Avg reward: -0.765\n",
            "📝 Prompt: Tell me about your day:\n",
            "💬 Response:  Work up up into your day. Relax. This is your best day. You're going to be back to the gym on Friday. You're going to be back to the gym on Friday. You're going to be back to the gym on Friday\n",
            "🎯 Reward: -0.078\n",
            "--------------------------------------------------\n"
          ]
        },
        {
          "output_type": "stream",
          "name": "stderr",
          "text": [
            "\rTraining RLHF:  72%|███████▏  | 43/60 [02:55<01:04,  3.80s/it]"
          ]
        },
        {
          "output_type": "stream",
          "name": "stdout",
          "text": [
            "✅ Step 42 | Avg reward: -1.831\n",
            "📝 Prompt: Tell me about your day:\n",
            "💬 Response: \n",
            "\n",
            "Time of morning\n",
            "\n",
            "\n",
            "Time\n",
            "Time of light\n",
            "\n",
            "Time of light\n",
            "\n",
            "Time of the day\n",
            "\n",
            "Time of day\n",
            "\n",
            "Time of day\n",
            "\n",
            "Time of the day\n",
            "\n",
            "Time of\n",
            "\n",
            "\n",
            "Time of the\n",
            "🎯 Reward: -1.729\n",
            "--------------------------------------------------\n"
          ]
        },
        {
          "output_type": "stream",
          "name": "stderr",
          "text": [
            "\rTraining RLHF:  73%|███████▎  | 44/60 [02:59<01:00,  3.76s/it]"
          ]
        },
        {
          "output_type": "stream",
          "name": "stdout",
          "text": [
            "✅ Step 43 | Avg reward: -0.809\n",
            "📝 Prompt: Tell me about your day:\n",
            "💬 Response:  day your day\n",
            "\n",
            "Dinner your day\n",
            "You're still breathing you're still breathing\n",
            "\n",
            "Wake up there's a fire there there\n",
            "\n",
            "Wake up you're still breathing\n",
            "\n",
            "Wake up you're still breathing\n",
            "\n",
            "You\n",
            "🎯 Reward: -1.164\n",
            "--------------------------------------------------\n"
          ]
        },
        {
          "output_type": "stream",
          "name": "stderr",
          "text": [
            "\rTraining RLHF:  75%|███████▌  | 45/60 [03:03<00:57,  3.84s/it]"
          ]
        },
        {
          "output_type": "stream",
          "name": "stdout",
          "text": [
            "✅ Step 44 | Avg reward: -1.074\n",
            "📝 Prompt: Tell me about your day:\n",
            "💬 Response:  How are you feeling? It's been a hard day. You've got two got two two. You're going to get all of your stuff together. You're going to get all of your stuff together. You're going to get all of your\n",
            "🎯 Reward: -0.648\n",
            "--------------------------------------------------\n"
          ]
        },
        {
          "output_type": "stream",
          "name": "stderr",
          "text": [
            "\rTraining RLHF:  77%|███████▋  | 46/60 [03:07<00:54,  3.89s/it]"
          ]
        },
        {
          "output_type": "stream",
          "name": "stdout",
          "text": [
            "✅ Step 45 | Avg reward: -0.640\n",
            "📝 Prompt: Tell me about your day:\n",
            "💬 Response:  (1/2) [You're about to go to a party, I think, by the way you're looking over your shoulder 'Round the corner by the door' [Expectation, by the way you're looking over your shoulder '\n",
            "🎯 Reward: -0.726\n",
            "--------------------------------------------------\n"
          ]
        },
        {
          "output_type": "stream",
          "name": "stderr",
          "text": [
            "\rTraining RLHF:  78%|███████▊  | 47/60 [03:10<00:49,  3.79s/it]"
          ]
        },
        {
          "output_type": "stream",
          "name": "stdout",
          "text": [
            "✅ Step 46 | Avg reward: -0.846\n",
            "📝 Prompt: Tell me about your day:\n",
            "💬 Response:  I'm going to sit down at the breakfast table, and then get my body up and then be looking at the TV, and then I'm going to be looking at the TV, and then, and then, and then, and then, and\n",
            "🎯 Reward: -1.746\n",
            "--------------------------------------------------\n"
          ]
        },
        {
          "output_type": "stream",
          "name": "stderr",
          "text": [
            "\rTraining RLHF:  80%|████████  | 48/60 [03:14<00:44,  3.72s/it]"
          ]
        },
        {
          "output_type": "stream",
          "name": "stdout",
          "text": [
            "✅ Step 47 | Avg reward: -1.535\n",
            "📝 Prompt: Tell me about your day:\n",
            "💬 Response:  I'm out for the second practice today, and I'm going to get down to my first down to my first down to my first down to my first down to my first down to my first down to my first down to my first down to my\n",
            "🎯 Reward: -1.599\n",
            "--------------------------------------------------\n"
          ]
        },
        {
          "output_type": "stream",
          "name": "stderr",
          "text": [
            "\rTraining RLHF:  82%|████████▏ | 49/60 [03:18<00:41,  3.74s/it]"
          ]
        },
        {
          "output_type": "stream",
          "name": "stdout",
          "text": [
            "✅ Step 48 | Avg reward: -0.880\n",
            "📝 Prompt: Tell me about your day:\n",
            "💬 Response:  Morning Morning Morning Morning Morning Morning Morning Morning Morning Morning Morning Morning Morning Morning Morning Morning Morning Morning Morning Morning Morning Morning Morning Morning Morning Morning Morning Morning Morning Morning Morning Morning Morning Morning Morning Morning Morning Morning Morning Morning Morning Morning Morning Morning Morning Morning Morning Morning Morning Morning\n",
            "🎯 Reward: -0.877\n",
            "--------------------------------------------------\n"
          ]
        },
        {
          "output_type": "stream",
          "name": "stderr",
          "text": [
            "\rTraining RLHF:  83%|████████▎ | 50/60 [03:21<00:37,  3.78s/it]"
          ]
        },
        {
          "output_type": "stream",
          "name": "stdout",
          "text": [
            "✅ Step 49 | Avg reward: -0.306\n",
            "📝 Prompt: Tell me about your day:\n",
            "💬 Response:  This morning I was up at the park and I was sitting in the park and I was walking down the hill I was walking down the hill I was walking down the hill I was walking down the hill I was walking down the hill I was walking down\n",
            "🎯 Reward: -1.658\n",
            "--------------------------------------------------\n"
          ]
        },
        {
          "output_type": "stream",
          "name": "stderr",
          "text": [
            "/usr/local/lib/python3.11/dist-packages/trl/trainer/ppo_trainer.py:1246: UserWarning: The average ratio of batch (11.60) exceeds threshold 10.00. Skipping batch.\n",
            "  warnings.warn(\n",
            "\rTraining RLHF:  85%|████████▌ | 51/60 [03:25<00:33,  3.72s/it]"
          ]
        },
        {
          "output_type": "stream",
          "name": "stdout",
          "text": [
            "✅ Step 50 | Avg reward: -1.236\n",
            "📝 Prompt: Tell me about your day:\n",
            "💬 Response:  What's up today? What's up today? What's up today? What's up today? What's up today? What's up today? What's up today? What's up today? What's up today? What's up today?\n",
            "🎯 Reward: -1.330\n",
            "--------------------------------------------------\n"
          ]
        },
        {
          "output_type": "stream",
          "name": "stderr",
          "text": [
            "\rTraining RLHF:  87%|████████▋ | 52/60 [03:29<00:29,  3.68s/it]"
          ]
        },
        {
          "output_type": "stream",
          "name": "stdout",
          "text": [
            "✅ Step 51 | Avg reward: -1.347\n",
            "📝 Prompt: Tell me about your day:\n",
            "💬 Response:  I'm sitting around doing a workout and I'm playing some wrestling. I'm sitting around a little bit of cardio and just doing some cardio. I'm sitting around a little bit of cardio and just doing some cardio. I'm sitting around a little\n",
            "🎯 Reward: -1.579\n",
            "--------------------------------------------------\n"
          ]
        },
        {
          "output_type": "stream",
          "name": "stderr",
          "text": [
            "\rTraining RLHF:  88%|████████▊ | 53/60 [03:33<00:26,  3.83s/it]"
          ]
        },
        {
          "output_type": "stream",
          "name": "stdout",
          "text": [
            "✅ Step 52 | Avg reward: -1.034\n",
            "📝 Prompt: Tell me about your day:\n",
            "💬 Response:  Good morning, Good morning, Good morning, Good morning. Good morning, Good morning. Good Morning. Good morning. [General greeting greeting greeting greeting greeting greeting greeting greeting greeting greeting greeting greeting greeting greeting greeting greeting greeting greeting greeting greeting greeting greeting greeting greeting\n",
            "🎯 Reward: -0.083\n",
            "--------------------------------------------------\n"
          ]
        },
        {
          "output_type": "stream",
          "name": "stderr",
          "text": [
            "\rTraining RLHF:  90%|█████████ | 54/60 [03:36<00:22,  3.75s/it]"
          ]
        },
        {
          "output_type": "stream",
          "name": "stdout",
          "text": [
            "✅ Step 53 | Avg reward: -1.704\n",
            "📝 Prompt: Tell me about your day:\n",
            "💬 Response:  Monday to Saturday morning\n",
            "\n",
            "Monday to Friday\n",
            "\n",
            "Thursday\n",
            "\n",
            "Friday Friday Saturday\n",
            "\n",
            "Saturday Saturday\n",
            "\n",
            "Monday Monday Monday\n",
            "\n",
            "Monday Monday Tuesday\n",
            "\n",
            "Tuesday Monday\n",
            "\n",
            "\n",
            "Tuesday Monday Tuesday Wednesday\n",
            "\n",
            "\n",
            "\n",
            "Wednesday Monday\n",
            "\n",
            "\n",
            "🎯 Reward: -1.759\n",
            "--------------------------------------------------\n"
          ]
        },
        {
          "output_type": "stream",
          "name": "stderr",
          "text": [
            "\rTraining RLHF:  92%|█████████▏| 55/60 [03:40<00:18,  3.70s/it]"
          ]
        },
        {
          "output_type": "stream",
          "name": "stdout",
          "text": [
            "✅ Step 54 | Avg reward: -0.778\n",
            "📝 Prompt: Tell me about your day:\n",
            "💬 Response:  12:15-0\n",
            "\n",
            "[ Little Little)\n",
            "\n",
            "[Lucia.\n",
            "\n",
            "[C]\n",
            "\n",
            "Sky-\n",
            "\n",
            "\n",
            "Lucia.\n",
            "\n",
            "\n",
            "Lucia\n",
            "\n",
            "\n",
            "Lucia\n",
            "\n",
            "Lucia\n",
            "\n",
            "Lucia\n",
            "🎯 Reward: -0.797\n",
            "--------------------------------------------------\n"
          ]
        },
        {
          "output_type": "stream",
          "name": "stderr",
          "text": [
            "/usr/local/lib/python3.11/dist-packages/trl/trainer/ppo_trainer.py:1246: UserWarning: The average ratio of batch (25.15) exceeds threshold 10.00. Skipping batch.\n",
            "  warnings.warn(\n",
            "/usr/local/lib/python3.11/dist-packages/trl/trainer/ppo_trainer.py:1246: UserWarning: The average ratio of batch (139.13) exceeds threshold 10.00. Skipping batch.\n",
            "  warnings.warn(\n",
            "/usr/local/lib/python3.11/dist-packages/trl/trainer/ppo_trainer.py:1246: UserWarning: The average ratio of batch (14.14) exceeds threshold 10.00. Skipping batch.\n",
            "  warnings.warn(\n",
            "/usr/local/lib/python3.11/dist-packages/trl/trainer/ppo_trainer.py:1246: UserWarning: The average ratio of batch (24.22) exceeds threshold 10.00. Skipping batch.\n",
            "  warnings.warn(\n",
            "/usr/local/lib/python3.11/dist-packages/trl/trainer/ppo_trainer.py:1246: UserWarning: The average ratio of batch (321.02) exceeds threshold 10.00. Skipping batch.\n",
            "  warnings.warn(\n",
            "Training RLHF:  93%|█████████▎| 56/60 [03:44<00:15,  3.86s/it]"
          ]
        },
        {
          "output_type": "stream",
          "name": "stdout",
          "text": [
            "✅ Step 55 | Avg reward: -1.271\n",
            "📝 Prompt: Tell me about your day:\n",
            "💬 Response:  Working in a large office at a morning: Good morning. Good morning. Good morning, good. Good morning, good, good. Good, good. Good, good. Good. Good Good, good good. Good, good good good good good\n",
            "🎯 Reward: -0.052\n",
            "--------------------------------------------------\n"
          ]
        },
        {
          "output_type": "stream",
          "name": "stderr",
          "text": [
            "\rTraining RLHF:  95%|█████████▌| 57/60 [03:48<00:11,  3.76s/it]"
          ]
        },
        {
          "output_type": "stream",
          "name": "stdout",
          "text": [
            "✅ Step 56 | Avg reward: -0.882\n",
            "📝 Prompt: Tell me about your day:\n",
            "💬 Response: \n",
            "\n",
            "[ Hall Hall Hall\n",
            "\n",
            "[Sun 5:30 PM]\n",
            "\n",
            "Saturday Morning\n",
            "\n",
            "[Sun 5:30 PM]\n",
            "\n",
            "\n",
            "Sunday\n",
            "\n",
            "\n",
            "[Sun 5:3030\n",
            "\n",
            "Sunday\n",
            "\n",
            "[Sun 5:\n",
            "🎯 Reward: -0.875\n",
            "--------------------------------------------------\n"
          ]
        },
        {
          "output_type": "stream",
          "name": "stderr",
          "text": [
            "\rTraining RLHF:  97%|█████████▋| 58/60 [03:51<00:07,  3.71s/it]"
          ]
        },
        {
          "output_type": "stream",
          "name": "stdout",
          "text": [
            "✅ Step 57 | Avg reward: -1.050\n",
            "📝 Prompt: Tell me about your day:\n",
            "💬 Response:  I'm up in the morning for my your your your your your your your your your your your your your your your your your your your your your your your your you your your your your your your your your your your your your your your your your your\n",
            "🎯 Reward: -0.597\n",
            "--------------------------------------------------\n"
          ]
        },
        {
          "output_type": "stream",
          "name": "stderr",
          "text": [
            "\rTraining RLHF:  98%|█████████▊| 59/60 [03:55<00:03,  3.81s/it]"
          ]
        },
        {
          "output_type": "stream",
          "name": "stdout",
          "text": [
            "✅ Step 58 | Avg reward: -0.826\n",
            "📝 Prompt: Tell me about your day:\n",
            "💬 Response: \n",
            "\n",
            "Time: Sunrise\n",
            "\n",
            "Time: Sunset\n",
            "\n",
            "Time: Sunrise\n",
            "\n",
            "Time:\n",
            "\n",
            "\n",
            "Sun Sunrise\n",
            "\n",
            "\n",
            "Time: Sunset\n",
            "\n",
            "Time:\n",
            "\n",
            "Sun Sunset\n",
            "\n",
            "Time:\n",
            "\n",
            "Sun Sunset\n",
            "\n",
            "Time:\n",
            "🎯 Reward: -1.811\n",
            "--------------------------------------------------\n"
          ]
        },
        {
          "output_type": "stream",
          "name": "stderr",
          "text": [
            "Training RLHF: 100%|██████████| 60/60 [03:59<00:00,  3.99s/it]"
          ]
        },
        {
          "output_type": "stream",
          "name": "stdout",
          "text": [
            "✅ Step 59 | Avg reward: -1.041\n",
            "📝 Prompt: Tell me about your day:\n",
            "💬 Response:  What's your day: What's your minute: What's your minute: What's your minute: What's your minute: What's your minute: What's your minute: What's your minute: What's your minute: What's your minute:\n",
            "🎯 Reward: -1.006\n",
            "--------------------------------------------------\n"
          ]
        },
        {
          "output_type": "stream",
          "name": "stderr",
          "text": [
            "\n"
          ]
        },
        {
          "output_type": "display_data",
          "data": {
            "text/plain": [
              "<Figure size 1000x500 with 1 Axes>"
            ],
            "image/png": "[encoded data removed]"
          },
          "metadata": {}
        }
      ]
    },
    {
      "cell_type": "code",
      "source": [
        "print(\"\\n📊 Evaluation after training:\")\n",
        "rlhf_pipeline.evaluate_model(test_prompts)"
      ],
      "metadata": {
        "colab": {
          "base_uri": "https://localhost:8080/"
        },
        "id": "YTQPn9ToDKhb",
        "outputId": "12c6bc0b-1099-4e96-9898-e65d640b11fe"
      },
      "execution_count": 9,
      "outputs": [
        {
          "output_type": "stream",
          "name": "stdout",
          "text": [
            "\n",
            "📊 Evaluation after training:\n",
            "📊 Evaluating model performance...\n",
            "📝 Prompt: What's the best way to start the day?\n",
            "💬 Response:  By playing a football game, or a soccer game, or a baseball game, or a soccer game, or a football game, or a basketball game, or a football game, or a football game, or a soccer game, or a tennis game\n",
            "🎯 Reward: -1.814\n",
            "📝 Prompt: How do you deal with stress?\n",
            "💬 Response: \n",
            "\n",
            "No.\n",
            "\n",
            "No\n",
            "\n",
            "No\n",
            "\n",
            "No\n",
            "\n",
            "No\n",
            "No\n",
            "\n",
            "No\n",
            "\n",
            "\n",
            "No\n",
            "\n",
            "\n",
            "No\n",
            "\n",
            "No\n",
            "\n",
            "No\n",
            "\n",
            "No\n",
            "\n",
            "No\n",
            "\n",
            "\n",
            "No\n",
            "\n",
            "\n",
            "No\n",
            "\n",
            "🎯 Reward: -1.867\n",
            "📝 Prompt: What's your advice for happiness?\n",
            "💬 Response:  Not too much. Good. Good. You're good. Good. Good. Good. Good. Good. Good. Good. Good. Good. Good. Good. Good. Good. Good Good. Good Good Good Good Good Good Good Good Good\n",
            "🎯 Reward: -0.063\n",
            "\n",
            "📈 Avg Reward: -1.248\n"
          ]
        }
      ]
    },
    {
      "cell_type": "code",
      "source": [
        "prompts = [\n",
        "    \"What's the best way to start the day?\",\n",
        "    \"How do you deal with stress?\",\n",
        "    \"What's your advice for happiness?\"\n",
        "]\n",
        "\n",
        "rewards_before = [0.733, -0.641, -0.019]\n",
        "rewards_after  = [-1.814,  -1.867, -0.063]\n",
        "\n",
        "x = range(len(prompts))\n",
        "bar_width = 0.35\n",
        "\n",
        "plt.figure(figsize=(10, 6))\n",
        "plt.bar(x, rewards_before, width=bar_width, label='Before Training', color='lightblue')\n",
        "plt.bar([i + bar_width for i in x], rewards_after, width=bar_width, label='After Training', color='lightgreen')\n",
        "\n",
        "plt.xlabel(\"Prompts\")\n",
        "plt.ylabel(\"Reward Score\")\n",
        "plt.title(\"📊 RLHF Reward Comparison Before vs After Training\")\n",
        "plt.xticks([i + bar_width / 2 for i in x], prompts, rotation=25, ha=\"right\")\n",
        "plt.legend()\n",
        "plt.tight_layout()\n",
        "plt.grid(axis='y', linestyle='--', alpha=0.6)\n",
        "plt.show()"
      ],
      "metadata": {
        "colab": {
          "base_uri": "https://localhost:8080/",
          "height": 676
        },
        "id": "-XxrzZVtFpuQ",
        "outputId": "f44db745-0d39-4583-acbe-34d63b4ec7f0"
      },
      "execution_count": 10,
      "outputs": [
        {
          "output_type": "stream",
          "name": "stderr",
          "text": [
            "/tmp/ipython-input-10-169708462.py:22: UserWarning: Glyph 128202 (\\N{BAR CHART}) missing from font(s) DejaVu Sans.\n",
            "  plt.tight_layout()\n",
            "/usr/local/lib/python3.11/dist-packages/IPython/core/pylabtools.py:151: UserWarning: Glyph 128202 (\\N{BAR CHART}) missing from font(s) DejaVu Sans.\n",
            "  fig.canvas.print_figure(bytes_io, **kw)\n"
          ]
        },
        {
          "output_type": "display_data",
          "data": {
            "text/plain": [
              "<Figure size 1000x600 with 1 Axes>"
            ],
            "image/png": "[encoded data removed]"
          },
          "metadata": {}
        }
      ]
    }
  ]
}